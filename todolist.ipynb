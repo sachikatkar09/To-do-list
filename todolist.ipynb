{
 "cells": [
  {
   "cell_type": "code",
   "execution_count": null,
   "id": "447729f3-df51-4013-a31d-8c11a8c13586",
   "metadata": {},
   "outputs": [
    {
     "name": "stdout",
     "output_type": "stream",
     "text": [
      "********** TO DO LIST **********\n",
      "Enter 1 to add a task\n",
      "Enter 2 to view tasks\n",
      "Enter 3 to remove a task\n",
      "Enter 4 to exit\n"
     ]
    },
    {
     "name": "stdin",
     "output_type": "stream",
     "text": [
      "Your choice:  1\n"
     ]
    }
   ],
   "source": [
    "print(\"*\" * 10 + \" TO DO LIST \" + \"*\" * 10)\n",
    "\n",
    "list = []\n",
    "\n",
    "while True:\n",
    "    print(\"Enter 1 to add a task\")\n",
    "    print(\"Enter 2 to view tasks\")\n",
    "    print(\"Enter 3 to remove a task\")\n",
    "    print(\"Enter 4 to exit\")\n",
    "\n",
    "    choice = input(\"Your choice: \")\n",
    "\n",
    "    if choice == '1':\n",
    "        task = input(\"Enter the task here: \")\n",
    "        list.append(task)\n",
    "        print(\"Task added.\")\n",
    "\n",
    "    elif choice == '2':\n",
    "        if list:\n",
    "            print(\"Tasks:\")\n",
    "            for task in list:\n",
    "                print(list)\n",
    "        else:\n",
    "            print(\"\\nNo tasks.\")\n",
    "\n",
    "    elif choice == '3':\n",
    "        task = input(\"Enter the task to remove: \")\n",
    "        if task in list:\n",
    "            list.remove(task)\n",
    "            print(\"Task removed.\")\n",
    "        else:\n",
    "            print(\"Task not found.\")\n",
    "\n",
    "    elif choice == '4':\n",
    "        print(\"Exit\")\n",
    "        break\n",
    "\n",
    "    else:\n",
    "        print(\"Invalid choice number\")\n"
   ]
  },
  {
   "cell_type": "code",
   "execution_count": 1,
   "id": "36cd3fca-4b50-4bbc-b431-00fa53105d7b",
   "metadata": {},
   "outputs": [
    {
     "name": "stdout",
     "output_type": "stream",
     "text": [
      "********** TO DO LIST **********\n",
      "Enter 1 to add a task\n",
      "Enter 2 to view tasks\n",
      "Enter 3 to remove a task\n",
      "Enter 4 to exit\n"
     ]
    },
    {
     "name": "stdin",
     "output_type": "stream",
     "text": [
      "Enter your choice 1/2/3/4: 1\n",
      "Enter a tasks to add: write a hw\n"
     ]
    },
    {
     "name": "stdout",
     "output_type": "stream",
     "text": [
      "'write a hw' has been added to your to-do list\n",
      "Enter 1 to add a task\n",
      "Enter 2 to view tasks\n",
      "Enter 3 to remove a task\n",
      "Enter 4 to exit\n"
     ]
    },
    {
     "name": "stdin",
     "output_type": "stream",
     "text": [
      "Enter your choice 1/2/3/4: 2\n"
     ]
    },
    {
     "name": "stdout",
     "output_type": "stream",
     "text": [
      "\n",
      "Your to-do list:\n",
      "1.write a hw\n",
      "Enter 1 to add a task\n",
      "Enter 2 to view tasks\n",
      "Enter 3 to remove a task\n",
      "Enter 4 to exit\n"
     ]
    },
    {
     "name": "stdin",
     "output_type": "stream",
     "text": [
      "Enter your choice 1/2/3/4: 1\n",
      "Enter a tasks to add: sleep for 2 hr\n"
     ]
    },
    {
     "name": "stdout",
     "output_type": "stream",
     "text": [
      "'sleep for 2 hr' has been added to your to-do list\n",
      "Enter 1 to add a task\n",
      "Enter 2 to view tasks\n",
      "Enter 3 to remove a task\n",
      "Enter 4 to exit\n"
     ]
    },
    {
     "name": "stdin",
     "output_type": "stream",
     "text": [
      "Enter your choice 1/2/3/4: 1\n",
      "Enter a tasks to add: wake up \n"
     ]
    },
    {
     "name": "stdout",
     "output_type": "stream",
     "text": [
      "'wake up ' has been added to your to-do list\n",
      "Enter 1 to add a task\n",
      "Enter 2 to view tasks\n",
      "Enter 3 to remove a task\n",
      "Enter 4 to exit\n"
     ]
    },
    {
     "name": "stdin",
     "output_type": "stream",
     "text": [
      "Enter your choice 1/2/3/4: 1\n",
      "Enter a tasks to add: do lunch\n"
     ]
    },
    {
     "name": "stdout",
     "output_type": "stream",
     "text": [
      "'do lunch' has been added to your to-do list\n",
      "Enter 1 to add a task\n",
      "Enter 2 to view tasks\n",
      "Enter 3 to remove a task\n",
      "Enter 4 to exit\n"
     ]
    },
    {
     "name": "stdin",
     "output_type": "stream",
     "text": [
      "Enter your choice 1/2/3/4: 2\n"
     ]
    },
    {
     "name": "stdout",
     "output_type": "stream",
     "text": [
      "\n",
      "Your to-do list:\n",
      "1.write a hw\n",
      "2.sleep for 2 hr\n",
      "3.wake up \n",
      "4.do lunch\n",
      "Enter 1 to add a task\n",
      "Enter 2 to view tasks\n",
      "Enter 3 to remove a task\n",
      "Enter 4 to exit\n"
     ]
    },
    {
     "name": "stdin",
     "output_type": "stream",
     "text": [
      "Enter your choice 1/2/3/4: 3\n"
     ]
    },
    {
     "name": "stdout",
     "output_type": "stream",
     "text": [
      "\n",
      "Your to-do list:\n",
      "1.write a hw\n",
      "2.sleep for 2 hr\n",
      "3.wake up \n",
      "4.do lunch\n"
     ]
    },
    {
     "name": "stdin",
     "output_type": "stream",
     "text": [
      "Enter the no . of item to remove: 1\n"
     ]
    },
    {
     "name": "stdout",
     "output_type": "stream",
     "text": [
      "'sleep for 2 hr' has been removed \n",
      "Enter 1 to add a task\n",
      "Enter 2 to view tasks\n",
      "Enter 3 to remove a task\n",
      "Enter 4 to exit\n"
     ]
    },
    {
     "name": "stdin",
     "output_type": "stream",
     "text": [
      "Enter your choice 1/2/3/4: 4\n"
     ]
    },
    {
     "name": "stdout",
     "output_type": "stream",
     "text": [
      "Exiting the to-do list\n"
     ]
    }
   ],
   "source": [
    "print(\"*\" * 10 + \" TO DO LIST \" + \"*\" * 10)\n",
    "\n",
    "def display_menu():\n",
    "    print(\"Enter 1 to add a task\")\n",
    "    print(\"Enter 2 to view tasks\")\n",
    "    print(\"Enter 3 to remove a task\")\n",
    "    print(\"Enter 4 to exit\")\n",
    "\n",
    "def add(todo_list):\n",
    "    item = input(\"Enter a tasks to add:\")\n",
    "    todo_list.append(item)\n",
    "    print(f\"'{item}' has been added to your to-do list\")\n",
    "\n",
    "def view(todo_list):\n",
    "    if not todo_list:\n",
    "        print(\"Your to-do list is empty\")\n",
    "    else:\n",
    "        print(\"\\nYour to-do list:\")\n",
    "        for index, item in enumerate(todo_list,start=1):\n",
    "            print(f\"{index}.{item}\")\n",
    "\n",
    "def remove(todo_list):\n",
    "    if not todo_list:\n",
    "        print(\"Your to-do list is empty . There is nothing to remove\")\n",
    "    else:\n",
    "        view(todo_list)\n",
    "        try:\n",
    "            item_index = int(input(\"Enter the no . of item to remove:\"))-1\n",
    "            removed_item = todo_list.pop(item_index)\n",
    "            print(f\"'{removed_item}' has been removed \")\n",
    "        except(IndexError , ValueError):\n",
    "            print(\"Invalid input. Enter valid number.\")\n",
    "\n",
    "def main():\n",
    "    todo_list = []\n",
    "    while True:\n",
    "        display_menu()\n",
    "        choice = input(\"Enter your choice 1/2/3/4:\")\n",
    "\n",
    "        if choice == \"1\":\n",
    "            add(todo_list)\n",
    "\n",
    "        elif choice ==\"2\":\n",
    "            view(todo_list)\n",
    "\n",
    "        elif choice ==\"3\":\n",
    "            remove(todo_list)\n",
    "\n",
    "        elif choice ==\"4\":\n",
    "            print(\"Exiting the to-do list\")\n",
    "            break\n",
    "\n",
    "        else:\n",
    "            print(\"Invalid input\")\n",
    "\n",
    "\n",
    "#if __name__ == \"__main__\":\n",
    "    #main()\n",
    "\n",
    "main()\n",
    "\n",
    "         "
   ]
  },
  {
   "cell_type": "code",
   "execution_count": null,
   "id": "5c2a2277-1f06-433e-a147-bb1317549396",
   "metadata": {},
   "outputs": [],
   "source": []
  }
 ],
 "metadata": {
  "kernelspec": {
   "display_name": "Python 3 (ipykernel)",
   "language": "python",
   "name": "python3"
  },
  "language_info": {
   "codemirror_mode": {
    "name": "ipython",
    "version": 3
   },
   "file_extension": ".py",
   "mimetype": "text/x-python",
   "name": "python",
   "nbconvert_exporter": "python",
   "pygments_lexer": "ipython3",
   "version": "3.11.7"
  }
 },
 "nbformat": 4,
 "nbformat_minor": 5
}
